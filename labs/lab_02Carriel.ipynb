{
  "nbformat": 4,
  "nbformat_minor": 0,
  "metadata": {
    "kernelspec": {
      "display_name": "Python 3",
      "language": "python",
      "name": "python3"
    },
    "language_info": {
      "codemirror_mode": {
        "name": "ipython",
        "version": 3
      },
      "file_extension": ".py",
      "mimetype": "text/x-python",
      "name": "python",
      "nbconvert_exporter": "python",
      "pygments_lexer": "ipython3",
      "version": "3.8.8"
    },
    "colab": {
      "name": "lab_02Carriel.ipynb",
      "provenance": [],
      "collapsed_sections": []
    }
  },
  "cells": [
    {
      "cell_type": "markdown",
      "metadata": {
        "id": "xKNeVVsiRrWW"
      },
      "source": [
        "# MAT281 - Laboratorio N°02\n",
        "\n"
      ]
    },
    {
      "cell_type": "markdown",
      "metadata": {
        "id": "m3eWMdkWRrWx"
      },
      "source": [
        "<a id='p1'></a>\n",
        "\n",
        "## Problema 01\n",
        "\n",
        "Una **media móvil simple** (SMA) es el promedio de los últimos $k$ datos anteriores, es decir, sea $a_1$,$a_2$,...,$a_n$ un arreglo $n$-dimensional, entonces la SMA se define por:\n",
        "\n",
        "$$\\displaystyle sma(k) =\\dfrac{1}{k}(a_{n}+a_{n-1}+...+a_{n-(k-1)}) = \\dfrac{1}{k}\\sum_{i=0}^{k-1}a_{n-i}  $$ \n",
        "\n",
        "\n",
        "Por otro lado podemos definir el SMA con una venta móvil de $n$ si el resultado nos retorna la el promedio ponderado avanzando de la siguiente forma:\n",
        "\n",
        "* $a = [1,2,3,4,5]$, la SMA con una ventana de $n=2$ sería:\n",
        " * sma(2) = [promedio(1,2), promedio(2,3), promedio(3,4), promedio(4,5)] = [1.5, 2.5, 3.5, 4.5]\n",
        "\n",
        "\n",
        "* $a = [1,2,3,4,5]$, la SMA con una ventana de $n=3$ sería:\n",
        " * sma(3) = [promedio(1,2,3), promedio(2,3,4), promedio(3,4,5)] = [2.,3.,4.]\n",
        "\n",
        "\n",
        "Implemente una función llamada `sma` cuyo input sea un arreglo unidimensional $a$ y un entero $n$, y cuyo ouput retorne el valor de la media móvil simple sobre el arreglo de la siguiente forma:\n",
        "\n",
        "* **Ejemplo**: *sma([5,3,8,10,2,1,5,1,0,2], 2)* = $[4. , 5.5, 9. , 6. , 1.5, 3. , 3. , 0.5, 1. ]$\n",
        "\n",
        "En este caso, se esta calculando el SMA para un arreglo con una ventana de $n=2$.\n",
        "\n",
        "**Hint**: utilice la función `numpy.cumsum`"
      ]
    },
    {
      "cell_type": "code",
      "metadata": {
        "id": "rC6wtMo7RrW4"
      },
      "source": [
        "# importar librerias\n",
        "import numpy as np "
      ],
      "execution_count": 2,
      "outputs": []
    },
    {
      "cell_type": "markdown",
      "metadata": {
        "id": "W0E_PJ4lRrXC"
      },
      "source": [
        "### Definir Función"
      ]
    },
    {
      "cell_type": "code",
      "metadata": {
        "id": "Xb2p5-2ARrXE"
      },
      "source": [
        "def sma(a,n):\n",
        "  \"\"\"\n",
        "  sma(a,n)\n",
        "  \n",
        "  Calcula la Media móvil simple\n",
        "\n",
        "  Parameters\n",
        "  ----------\n",
        "  a : numpy.ndarray\n",
        "      Arreglo.\n",
        "  n : int\n",
        "      Numero de terminos.\n",
        "\n",
        "  Returns\n",
        "  -------\n",
        "  output : numpy.ndarray\n",
        "      Arreglo media móvil simple.\n",
        "        \n",
        "  Examples\n",
        "  --------\n",
        "  >>> sma([5,3,8,10,2,1,5,1,0,2], 2)  \n",
        "  [4.,5.5,9.,6.,1.5,3.,3.,0.5,1.]\n",
        "  \"\"\" \n",
        "  x=[]\n",
        "  for i in range(len(a)+1-n):\n",
        "      suma=0\n",
        "      for j in range(n):\n",
        "          suma=suma+a[i+j]\n",
        "      x.append(suma/(n))\n",
        "  return x"
      ],
      "execution_count": 16,
      "outputs": []
    },
    {
      "cell_type": "markdown",
      "metadata": {
        "id": "GWHwG5FJRrXF"
      },
      "source": [
        "### Verificar ejemplos"
      ]
    },
    {
      "cell_type": "code",
      "metadata": {
        "id": "Wdgrc4uWRrXJ"
      },
      "source": [
        "# ejemplo 01\n",
        "a = np.array([1,2,3,4,5])\n",
        "\n",
        "np.testing.assert_array_equal(\n",
        "    sma(a,2),\n",
        "    np.array([1.5, 2.5, 3.5, 4.5])\n",
        ")"
      ],
      "execution_count": 17,
      "outputs": []
    },
    {
      "cell_type": "code",
      "metadata": {
        "colab": {
          "base_uri": "https://localhost:8080/"
        },
        "id": "i7kkvM6rSUNv",
        "outputId": "63ca26d8-a348-4f6d-95f1-aacaa38701ec"
      },
      "source": [
        "sma(a,2)"
      ],
      "execution_count": 18,
      "outputs": [
        {
          "output_type": "execute_result",
          "data": {
            "text/plain": [
              "[1.5, 2.5, 3.5, 4.5]"
            ]
          },
          "metadata": {},
          "execution_count": 18
        }
      ]
    },
    {
      "cell_type": "code",
      "metadata": {
        "id": "V7lfxGaQRrXP"
      },
      "source": [
        "# ejemplo 02\n",
        "b = np.array([5,3,8,10,2,1,5,1,0,2])\n",
        "\n",
        "np.testing.assert_array_equal(\n",
        "    sma(b, 2),\n",
        "    np.array([4. , 5.5, 9. , 6. , 1.5, 3. , 3. , 0.5, 1. ])\n",
        ")"
      ],
      "execution_count": 19,
      "outputs": []
    },
    {
      "cell_type": "code",
      "metadata": {
        "colab": {
          "base_uri": "https://localhost:8080/"
        },
        "id": "Z0QkZQ9MS0tC",
        "outputId": "6f69fd45-ecd4-4c07-9d9a-368f411eead1"
      },
      "source": [
        "sma(b,2)"
      ],
      "execution_count": 20,
      "outputs": [
        {
          "output_type": "execute_result",
          "data": {
            "text/plain": [
              "[4.0, 5.5, 9.0, 6.0, 1.5, 3.0, 3.0, 0.5, 1.0]"
            ]
          },
          "metadata": {},
          "execution_count": 20
        }
      ]
    },
    {
      "cell_type": "markdown",
      "metadata": {
        "id": "Nu6CK7lKRrXU"
      },
      "source": [
        "<a id='p2'></a>\n",
        "\n",
        "## Problema 02\n",
        "\n",
        "La función **strides($a,n,p$)**, corresponde a transformar un arreglo unidimensional $a$ en una matriz de $n$ columnas, en el cual las filas se van construyendo desfasando la posición del arreglo en $p$ pasos hacia adelante.\n",
        "\n",
        "* Para el arreglo unidimensional $a$ = [ 1,  2,  3,  4,  5,  6,  7,  8,  9, 10], la función strides($a,4,2$), corresponde a crear una matriz de $4$ columnas, cuyos desfaces hacia adelante se hacen de dos en dos. \n",
        "\n",
        "El resultado tendría que ser algo así:$$\\begin{pmatrix}\n",
        " 1& 2 &3 &4 \\\\ \n",
        " 3&  4&5&6 \\\\ \n",
        " 5& 6 &7 &8 \\\\ \n",
        " 7& 8 &9 &10 \\\\ \n",
        "\\end{pmatrix}$$\n",
        "\n",
        "\n",
        "Implemente una función llamada `strides(a,n,p)` cuyo input sea:\n",
        "* $a$: un arreglo unidimensional, \n",
        "* $n$: el número de columnas,\n",
        "* $p$: el número de pasos hacia adelante  \n",
        "\n",
        "y retorne la matriz de $n$ columnas, cuyos desfaces hacia adelante se hacen de $p$ en $p$ pasos. \n",
        "\n",
        "* **Ejemplo**: *strides($a$,4,2)* =$\\begin{pmatrix}\n",
        " 1& 2 &3 &4 \\\\ \n",
        " 3&  4&5&6 \\\\ \n",
        " 5& 6 &7 &8 \\\\ \n",
        " 7& 8 &9 &10 \\\\ \n",
        "\\end{pmatrix}$\n"
      ]
    },
    {
      "cell_type": "markdown",
      "metadata": {
        "id": "LQxEWGvVRrXc"
      },
      "source": [
        "### Definir Función"
      ]
    },
    {
      "cell_type": "code",
      "metadata": {
        "id": "aVoZ2XoORrXl"
      },
      "source": [
        "def strides(a,n,p):\n",
        "  \"\"\"\n",
        "  strides(a,n,p)\n",
        "  \n",
        "  Construye una matriz con un desfase\n",
        "\n",
        "  Parameters\n",
        "  ----------\n",
        "  a : numpy.ndarray\n",
        "      Arreglo.\n",
        "  n : int\n",
        "      Numero de columnas.\n",
        "  p : int\n",
        "      Número de pasos hacia adelante\n",
        "\n",
        "  Returns\n",
        "  -------\n",
        "  output : numpy.ndarray\n",
        "      Matriz desfasada.\n",
        "        \n",
        "  Examples\n",
        "  --------\n",
        "  >>> strides(a,4,2)\n",
        "  array([[ 1., 2., 3., 4.],\n",
        "         [ 3., 4., 5., 6.],\n",
        "         [ 5., 6., 7., 8.],\n",
        "         [ 7., 8., 9., 10.]]) \n",
        "  \"\"\"\n",
        "  x=np.zeros((n,n))\n",
        "  for i in range(n):\n",
        "    for j in range(n):\n",
        "      v=a[i+j*p]\n",
        "      x[j][i]=v\n",
        "  return x"
      ],
      "execution_count": 52,
      "outputs": []
    },
    {
      "cell_type": "markdown",
      "metadata": {
        "id": "AzWyHcRHRrXr"
      },
      "source": [
        "### Verificar ejemplos"
      ]
    },
    {
      "cell_type": "code",
      "metadata": {
        "id": "4NdJe2imRrXt"
      },
      "source": [
        "# ejemplo 01\n",
        "a = np.array([ 1,  2,  3,  4,  5,  6,  7,  8,  9, 10])\n",
        "n=4\n",
        "p=2\n",
        "\n",
        "np.testing.assert_array_equal(\n",
        "    strides(a,n,p),\n",
        "    np.array([\n",
        "       [ 1,  2,  3,  4],\n",
        "       [ 3,  4,  5,  6],\n",
        "       [ 5,  6,  7,  8],\n",
        "       [ 7,  8,  9, 10]\n",
        "    ])\n",
        ")"
      ],
      "execution_count": 54,
      "outputs": []
    },
    {
      "cell_type": "markdown",
      "metadata": {
        "id": "vmMtuRPERrXw"
      },
      "source": [
        "<a id='p3'></a>\n",
        "\n",
        "## Problema 03\n",
        "\n",
        "\n",
        "Un **cuadrado mágico** es una matriz de tamaño $n \\times n$ de números enteros positivos tal que \n",
        "la suma de los números por columnas, filas y diagonales principales sea la misma. Usualmente, los números empleados para rellenar las casillas son consecutivos, de 1 a $n^2$, siendo $n$ el número de columnas y filas del cuadrado mágico.\n",
        "\n",
        "Si los números son consecutivos de 1 a $n^2$, la suma de los números por columnas, filas y diagonales principales \n",
        "es igual a : $$\\displaystyle M_{n} = \\dfrac{n(n^2+1)}{2}$$\n",
        "Por ejemplo, \n",
        "\n",
        "* $A= \\begin{pmatrix}\n",
        " 4& 9 &2 \\\\ \n",
        " 3&  5&7 \\\\ \n",
        " 8& 1 &6 \n",
        "\\end{pmatrix}$,\n",
        "es un cuadrado mágico.\n",
        "\n",
        "* $B= \\begin{pmatrix}\n",
        " 4& 2 &9 \\\\ \n",
        " 3&  5&7 \\\\ \n",
        " 8& 1 &6 \n",
        "\\end{pmatrix}$, no es un cuadrado mágico.\n",
        "\n",
        "Implemente una función llamada `es_cudrado_magico` cuyo input sea una matriz cuadrada de tamaño $n$ con números consecutivos de $1$ a $n^2$ y cuyo ouput retorne *True* si es un cuadrado mágico o 'False', en caso contrario\n",
        "\n",
        "* **Ejemplo**: *es_cudrado_magico($A$)* = True, *es_cudrado_magico($B$)* = False\n",
        "\n",
        "**Hint**: Cree una función que valide la mariz es cuadrada y  que sus números son consecutivos del 1 a $n^2$."
      ]
    },
    {
      "cell_type": "markdown",
      "metadata": {
        "id": "ExN_wDGgRrXz"
      },
      "source": [
        "### Definir Función"
      ]
    },
    {
      "cell_type": "code",
      "metadata": {
        "id": "lxP_YgpoTQI0"
      },
      "source": [
        "def es_cuadrado_magico(a):\n",
        "  \"\"\"\n",
        "  es_cuadrado_magico(a)\n",
        "  \n",
        "  Revisa si una matriz es un cuadrado mágico\n",
        "\n",
        "  Parameters\n",
        "  ----------\n",
        "  a : numpy.ndarray\n",
        "      Arreglo.\n",
        "\n",
        "  Returns\n",
        "  -------\n",
        "  output : bool\n",
        "      Valor de verdad del cuadrado mágico.\n",
        "        \n",
        "  Examples\n",
        "  --------\n",
        "  >>> es_cudrado_magico( A )\n",
        "  True\n",
        "  >>>es_cudrado_magico( B )\n",
        "  False \n",
        "  \"\"\"\n",
        "  #filas\n",
        "  suma_filas=[]\n",
        "  #Primero calculamos la suma de la primera fila\n",
        "  suma1=0\n",
        "  for j in range(len(a)):\n",
        "    suma1+=a[0][j]\n",
        "  #ahora evaluamos la suma en las otra filas y vemos si es igual a la primera\n",
        "  for i in range(1,len(a)):\n",
        "      suma=0\n",
        "      for j in range(len(a)):\n",
        "            suma=suma+a[i][j]\n",
        "      if suma>suma1 or suma<suma1:\n",
        "        return False\n",
        "  #ahora lo mismo con las columnas\n",
        "  for i in range(len(a)):\n",
        "      suma=0\n",
        "      for j in range(len(a)):\n",
        "          suma=suma+a[i][j]\n",
        "      if suma>suma1 or suma<suma1:\n",
        "        return False\n",
        "  #diagonales\n",
        "  suma_diag1=0\n",
        "  suma_diag2=0\n",
        "  for i in range(len(a)):\n",
        "      suma_diag1=suma_diag1+a[i][i]\n",
        "      suma_diag2=suma_diag2+a[i][len(a)-1-i]\n",
        "  if suma_diag1<suma1 or suma_diag2<suma1 or suma_diag1>suma1 or suma_diag2>suma1:\n",
        "      return False\n",
        "  return True"
      ],
      "execution_count": 29,
      "outputs": []
    },
    {
      "cell_type": "markdown",
      "metadata": {
        "id": "KuAAZ6bnRrX1"
      },
      "source": [
        "### Verificar ejemplos"
      ]
    },
    {
      "cell_type": "code",
      "metadata": {
        "id": "sgnT4WflRrX4"
      },
      "source": [
        "# ejemplo 01\n",
        "A = np.array([[4,9,2],[3,5,7],[8,1,6]])\n",
        "assert es_cuadrado_magico(A) == True, \"ejemplo 01 incorrecto\""
      ],
      "execution_count": 30,
      "outputs": []
    },
    {
      "cell_type": "code",
      "metadata": {
        "id": "PSRe-sGvRrX6"
      },
      "source": [
        "# ejemplo 02\n",
        "B = np.array([[4,2,9],[3,5,7],[8,1,6]])\n",
        "assert es_cuadrado_magico(B) == False, \"ejemplo 02 incorrecto\""
      ],
      "execution_count": 31,
      "outputs": []
    },
    {
      "cell_type": "code",
      "metadata": {
        "colab": {
          "base_uri": "https://localhost:8080/"
        },
        "id": "CHP1QyspWjZd",
        "outputId": "b9bcaaac-751c-4031-9fe2-7102394aa5ca"
      },
      "source": [
        "es_cuadrado_magico(A) "
      ],
      "execution_count": 32,
      "outputs": [
        {
          "output_type": "execute_result",
          "data": {
            "text/plain": [
              "True"
            ]
          },
          "metadata": {},
          "execution_count": 32
        }
      ]
    },
    {
      "cell_type": "code",
      "metadata": {
        "colab": {
          "base_uri": "https://localhost:8080/"
        },
        "id": "_lU1miQTWjgw",
        "outputId": "37b5dd6f-aa16-4265-dd14-77d92b866e2b"
      },
      "source": [
        "es_cuadrado_magico(B) "
      ],
      "execution_count": 33,
      "outputs": [
        {
          "output_type": "execute_result",
          "data": {
            "text/plain": [
              "False"
            ]
          },
          "metadata": {},
          "execution_count": 33
        }
      ]
    },
    {
      "cell_type": "code",
      "metadata": {
        "id": "GWpItBvBIb4-"
      },
      "source": [
        ""
      ],
      "execution_count": null,
      "outputs": []
    }
  ]
}